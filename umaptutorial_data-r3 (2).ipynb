{
 "cells": [
  {
   "cell_type": "code",
   "execution_count": null,
   "id": "fdbb4848-067d-4bcd-9b53-33b9612afeb0",
   "metadata": {},
   "outputs": [],
   "source": [
    "#importing important packages necessary to notebook\n",
    "import numpy as np\n",
    "from sklearn.datasets import load_digits #ready available data set\n",
    "from sklearn.model_selection import train_test_split  #function that divides up data\n",
    "from sklearn.preprocessing import StandardScaler\n",
    "import matplotlib.pyplot as plt  #plotting\n",
    "import seaborn as sns            #and visualization\n",
    "import pandas as pd\n",
    "import sklearn.cluster as cluster\n",
    "%matplotlib inline"
   ]
  },
  {
   "cell_type": "code",
   "execution_count": null,
   "id": "123c0bd3-780d-46e5-a337-f062ef758b44",
   "metadata": {},
   "outputs": [],
   "source": [
    "#styling notebook\n",
    "sns.set(style='white', context='notebook', rc={'figure.figsize':(14,10)})"
   ]
  },
  {
   "cell_type": "code",
   "execution_count": null,
   "id": "fb433e5d-79ef-484c-95bd-baf5d28646b7",
   "metadata": {},
   "outputs": [],
   "source": [
    "#getting the data set\n",
    "data_csv =  pd.read_csv(\"f444wstarR3.csv\")\n",
    "#list indices must be integers or slices, not float, error from below when tried to do floats\n",
    "data_csv = data_csv.astype('int')\n",
    "data_csv.head()\n",
    "#type(data_csv) - is a dataframe"
   ]
  },
  {
   "cell_type": "code",
   "execution_count": null,
   "id": "1f2e7c20-3a36-423c-94e4-1934db4d8c41",
   "metadata": {
    "tags": []
   },
   "outputs": [],
   "source": [
    "#seeing how many rows\n",
    "#data_csv.xcentroid.value_counts()\n",
    "#result: Name: xcentroid, Length: 17401, dtype: int64\n",
    "\n",
    "#organize by area instead\n",
    "data_csv.area.value_counts()\n",
    "pd.set_option(\"display.max_rows\", 10)  #can change the number to \"None\" to print all the values\n",
    "print(data_csv.area.value_counts())"
   ]
  },
  {
   "cell_type": "code",
   "execution_count": null,
   "id": "4742ada4-9b9e-4a32-811c-86599645f05d",
   "metadata": {},
   "outputs": [],
   "source": [
    "print(data_csv.local_background.value_counts())"
   ]
  },
  {
   "cell_type": "code",
   "execution_count": null,
   "id": "421a3c5d-15dd-4c38-846f-17ba3604576d",
   "metadata": {},
   "outputs": [],
   "source": [
    "#beyond the 2d visualization, umap helps see internal structure of the data, intuition\n",
    "#need umap object\n",
    "import umap"
   ]
  },
  {
   "cell_type": "code",
   "execution_count": null,
   "id": "07fb8bfa-8b27-448d-8e96-1481b8318c7b",
   "metadata": {},
   "outputs": [],
   "source": [
    "reducer = umap.UMAP()"
   ]
  },
  {
   "cell_type": "code",
   "execution_count": null,
   "id": "1a700b11-3755-4d6e-b8a5-f811bd82335c",
   "metadata": {},
   "outputs": [],
   "source": [
    "#cleaning up data\n",
    "#convert each feature into z-scores (number of standard deviations from the mean) for comparability\n",
    "data = data_csv[\n",
    "    [\n",
    "        \"xcentroid\",  #remove\n",
    "        \"ycentroid\",  #remove\n",
    "        \"area\",\n",
    "        \"semimajor_sigma\",\n",
    "        \"semiminor_sigma\",\n",
    "        \"orientation\", #remove, might use in future\n",
    "        \"eccentricity\",\n",
    "        \"min_value\",#re\n",
    "        \"max_value\",#re\n",
    "        \"local_background\",#re\n",
    "        \"R0_R3\", #plotting values relative to R3 instead of R0\n",
    "        \"R1_R3\",\t\n",
    "        \"R2_R3\",\n",
    "        \"gini\",  #relative distribution of flux values - how much of the flux is in the brightest pixels\n",
    "        \"fwhm\",\n",
    "        \"cxx\",\n",
    "        \"cxy\",\n",
    "        \"cyy\"\n",
    "    ]\n",
    "].values\n",
    "scaled_data = StandardScaler().fit_transform(data)"
   ]
  },
  {
   "cell_type": "code",
   "execution_count": null,
   "id": "657c1d7a-c252-427b-a31e-f458f901db08",
   "metadata": {},
   "outputs": [],
   "source": [
    "#training the reducer so it can learn about the manifold\n",
    "#returns as array\n",
    "embedding = reducer.fit_transform(scaled_data)\n",
    "embedding.shape\n",
    "#2d is the default\n",
    "\n",
    "#running this changed the embedding slighly each time\n",
    "\n",
    "# save numpy array as csv file\n",
    "from numpy import asarray\n",
    "from numpy import savetxt\n",
    "# save to csv file\n",
    "savetxt('r3.csv', embedding, delimiter=',')"
   ]
  },
  {
   "cell_type": "markdown",
   "id": "37aa0c06-c16b-467b-8bbc-4f50071b4940",
   "metadata": {},
   "source": [
    "## Attempting to plot without c, c=local bg and then area"
   ]
  },
  {
   "cell_type": "code",
   "execution_count": null,
   "id": "3e6a1c1a-f0ab-4a44-803d-6b80d1a23104",
   "metadata": {},
   "outputs": [],
   "source": [
    "#what if i just ignore c...\n",
    "#this is weird, how does it know what data i am talking about??\n",
    "    #through the embedding\n",
    "plt.scatter(\n",
    "    embedding[:, 0],\n",
    "    embedding[:, 1]\n",
    "    #list indices must be integers or slices, not float\n",
    "    #c=data_csv\n",
    "   ) \n",
    "    \n",
    "plt.gca().set_aspect('equal', 'datalim')\n",
    "plt.title('UMAP projection of the dataset', fontsize=24)\n"
   ]
  },
  {
   "cell_type": "code",
   "execution_count": null,
   "id": "8f821e96-6a98-4acd-95f5-8e40c646b06f",
   "metadata": {},
   "outputs": [],
   "source": [
    "#what if i just ignore c...\n",
    "#this is weird, how does it know what data i am talking about??\n",
    "    #through the embedding\n",
    "plt.scatter(\n",
    "    embedding[:, 0],\n",
    "    embedding[:, 1]\n",
    "    #list indices must be integers or slices, not float\n",
    "    #c=data_csv\n",
    "   ) \n",
    "#this is attempting to plot out the stars, could just be the first 859 objects\n",
    "#try running for less objects until in same cluster, in testing that, found that even the first 100 objects\n",
    "#are not simply plotted together, they are also scattered\n",
    "for i in range(859):\n",
    "    plt.scatter(\n",
    "        embedding[i,0],\n",
    "        embedding[i, 1], color='r')\n",
    "    \n",
    "    \n",
    "plt.gca().set_aspect('equal', 'datalim')\n",
    "plt.title('UMAP projection of the dataset with stars highlighted', fontsize=24)\n",
    "\n",
    "#data got flipped in the reordering???\n",
    "\n",
    "#get all in one cluster, to can automatically say what are stars"
   ]
  },
  {
   "cell_type": "markdown",
   "id": "c5f77408-6ac2-4c95-a9eb-78997bc99c6c",
   "metadata": {},
   "source": [
    "# Kmeans on umap projection"
   ]
  },
  {
   "cell_type": "code",
   "execution_count": null,
   "id": "f4a30f03-1346-4199-a981-c7304c188234",
   "metadata": {},
   "outputs": [],
   "source": [
    "fig = plt.figure(figsize=(10,10))\n",
    "#using 15 neighbors, changing this changed the coloring\n",
    "kmeans_labels = cluster.KMeans(n_clusters=10).fit_predict(embedding) #scaled data is the reducer created\n",
    "plt.scatter(embedding[:, 0], embedding[:, 1], c=kmeans_labels, s=0.1, cmap='Spectral');\n",
    "\n",
    "#friends of friends algorithm\n",
    "#minimal spanning tree - kruzkil method"
   ]
  },
  {
   "cell_type": "code",
   "execution_count": null,
   "id": "56bf44cd-e8ec-4ac9-8772-0a5ccdcd027a",
   "metadata": {},
   "outputs": [],
   "source": [
    "#hopefully simpler before tackling area\n",
    "plt.scatter(\n",
    "    embedding[:, 0],\n",
    "    embedding[:, 1],\n",
    "    #list indices must be integers or slices, not float\n",
    "    c=[sns.color_palette()[x] for x in data_csv.local_background.map({\"0\":0})]) \n",
    "plt.gca().set_aspect('equal', 'datalim')\n",
    "plt.title('UMAP projection of the dataset', fontsize=24)"
   ]
  },
  {
   "cell_type": "code",
   "execution_count": null,
   "id": "d01fe328-3577-4a80-a7d4-49c4a9fc11fc",
   "metadata": {},
   "outputs": [],
   "source": []
  }
 ],
 "metadata": {
  "kernelspec": {
   "display_name": "Python 3.7 via comp-astro",
   "language": "python",
   "name": "comp-astro"
  },
  "language_info": {
   "codemirror_mode": {
    "name": "ipython",
    "version": 3
   },
   "file_extension": ".py",
   "mimetype": "text/x-python",
   "name": "python",
   "nbconvert_exporter": "python",
   "pygments_lexer": "ipython3",
   "version": "3.7.12"
  }
 },
 "nbformat": 4,
 "nbformat_minor": 5
}
